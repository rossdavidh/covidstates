{
 "cells": [
  {
   "cell_type": "code",
   "execution_count": 7,
   "metadata": {},
   "outputs": [
    {
     "data": {
      "application/vnd.jupyter.widget-view+json": {
       "model_id": "ecb58f9b8ca5480b9652e433585a0fbc",
       "version_major": 2,
       "version_minor": 0
      },
      "text/plain": [
       "interactive(children=(Dropdown(description='state1', options=('American Samoa', 'Guam', 'Northern Mariana Isla…"
      ]
     },
     "metadata": {},
     "output_type": "display_data"
    }
   ],
   "source": [
    "from IPython.display import display\n",
    "%reload_ext autoreload\n",
    "from ipywidgets import interactive, interact_manual, Text, Dropdown, Output\n",
    "import numpy as np\n",
    "import pandas as pd\n",
    "import scipy.stats as stats\n",
    "import datetime\n",
    "%matplotlib inline\n",
    "import matplotlib.dates as mpd\n",
    "import matplotlib.pyplot as plt\n",
    "\n",
    "from states import fetch_state_data\n",
    "%autoreload\n",
    "\n",
    "state_data = pd.read_csv('https://raw.githubusercontent.com/CSSEGISandData/COVID-19/master/csse_covid_19_data/csse_covid_19_time_series/time_series_covid19_deaths_US.csv')\n",
    "\n",
    "state_list = state_data.Province_State.unique()\n",
    "\n",
    "def plot_weekly_death(state1,state1_deaths,state2,state2_deaths,dates):\n",
    "    begin_idx = max(0,len(state1_deaths)%7-1)\n",
    "    idxs = list(range(begin_idx,len(state1_deaths)))[0::7]\n",
    "    s1_weekly_deaths = [state1_deaths[x] - state1_deaths[x-7] for x in idxs][1:]\n",
    "    s2_weekly_deaths = [state2_deaths[x] - state2_deaths[x-7] for x in idxs][1:]\n",
    "    plt.figure(figsize=(8, 6), dpi= 80)\n",
    "    plt.plot_date(dates[begin_idx::7][1:],s1_weekly_deaths, label=state1)\n",
    "    plt.plot_date(dates[begin_idx::7][1:],s2_weekly_deaths, label=state2)\n",
    "    plt.legend(loc='lower center', ncol=3, bbox_to_anchor=(0.5, 1.05))\n",
    "    plt.title('Comparing '+state1+' and '+state2+' Weekly Covid-19 Mortality')\n",
    "    #uncomment this and change directory to save figures as you create them\n",
    "    #plt.savefig('/home/rossdavidh/Desktop/'+state1+'_'+state2+'.png', bbox_inches='tight')\n",
    "    plt.show()\n",
    "\n",
    "\n",
    "def handle_submit(state1,state2):\n",
    "    state1_deaths = fetch_state_data(state1,state_data)\n",
    "    state2_deaths = fetch_state_data(state2,state_data)\n",
    "    display(state1,state1_deaths[-1])\n",
    "    display(state2,state2_deaths[-1])\n",
    "    dates = mpd.date2num([datetime.datetime.strptime(d,'%m/%d/%y') for d in state1_deaths.index.values.tolist()])\n",
    "    plot_weekly_death(state1,state1_deaths,state2,state2_deaths,dates)\n",
    "\n",
    "dropdown_state = interactive(handle_submit, {'manual': True}, state1=state_list, state2=state_list)\n",
    "display(dropdown_state)"
   ]
  },
  {
   "cell_type": "code",
   "execution_count": null,
   "metadata": {},
   "outputs": [],
   "source": []
  }
 ],
 "metadata": {
  "kernelspec": {
   "display_name": "Python 3",
   "language": "python",
   "name": "python3"
  },
  "language_info": {
   "codemirror_mode": {
    "name": "ipython",
    "version": 3
   },
   "file_extension": ".py",
   "mimetype": "text/x-python",
   "name": "python",
   "nbconvert_exporter": "python",
   "pygments_lexer": "ipython3",
   "version": "3.6.9"
  }
 },
 "nbformat": 4,
 "nbformat_minor": 4
}
